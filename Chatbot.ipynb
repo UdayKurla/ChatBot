{
 "cells": [
  {
   "cell_type": "code",
   "execution_count": null,
   "id": "ba86fdfb",
   "metadata": {},
   "outputs": [
    {
     "name": "stdout",
     "output_type": "stream",
     "text": [
      "Welcome to the Weather Chatbot!\n",
      "Please enter a location (or 'exit' to quit): bangalore\n",
      "The current temperature in bangalore is 23.0°C with Light drizzle.\n",
      "Please enter a location (or 'exit' to quit): kurnool\n"
     ]
    }
   ],
   "source": [
    "import requests\n",
    "import json\n",
    "\n",
    "def get_weather(location):\n",
    "    url = f\"https://api.weatherapi.com/v1/current.json?key=661b900f19ac4f5f871154050231506 &q={location}\"\n",
    "\n",
    "    try:\n",
    "        response = requests.get(url)\n",
    "        data = json.loads(response.text)\n",
    "\n",
    "        if 'current' in data:\n",
    "            temperature = data['current']['temp_c']\n",
    "            condition = data['current']['condition']['text']\n",
    "\n",
    "            return f\"The current temperature in {location} is {temperature}°C with {condition}.\"\n",
    "        else:\n",
    "            return \"Unable to fetch weather data for the given location.\"\n",
    "\n",
    "    except requests.exceptions.RequestException as e:\n",
    "\n",
    "        return \"An error occurred while fetching the weather data.\"\n",
    "\n",
    "\n",
    "print(\"Welcome to the Weather Chatbot!\")\n",
    "\n",
    "while True:\n",
    "    location = input(\"Please enter a location (or 'exit' to quit): \")\n",
    "\n",
    "    if location.lower() == 'exit':\n",
    "        print(\"Thank you for using the Weather Chatbot. Goodbye!\")\n",
    "        break\n",
    "\n",
    "    weather_info = get_weather(location)\n",
    "\n",
    "    print(weather_info)\n"
   ]
  }
 ],
 "metadata": {
  "kernelspec": {
   "display_name": "Python 3 (ipykernel)",
   "language": "python",
   "name": "python3"
  },
  "language_info": {
   "codemirror_mode": {
    "name": "ipython",
    "version": 3
   },
   "file_extension": ".py",
   "mimetype": "text/x-python",
   "name": "python",
   "nbconvert_exporter": "python",
   "pygments_lexer": "ipython3",
   "version": "3.10.9"
  }
 },
 "nbformat": 4,
 "nbformat_minor": 5
}
